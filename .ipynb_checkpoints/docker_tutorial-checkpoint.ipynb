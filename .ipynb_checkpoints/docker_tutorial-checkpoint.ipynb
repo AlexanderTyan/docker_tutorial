{
 "cells": [
  {
   "cell_type": "raw",
   "id": "a88e9bc7-be0a-45df-a37d-e9eb4b3ded12",
   "metadata": {
    "editable": true,
    "raw_mimetype": "",
    "slideshow": {
     "slide_type": ""
    },
    "tags": []
   },
   "source": [
    "---\n",
    "title: \"Containers (in Docker)*\"\n",
    "from: markdown+emoji\n",
    "format:\n",
    "  revealjs:\n",
    "    theme: [moon, html/custom.scss]\n",
    "    include-after-body: html/add-custom-title-footer.html\n",
    "    code-copy: true\n",
    "    chalkboard: true\n",
    "    mermaid:\n",
    "      theme: neutral\n",
    "author: \"Sasha from Russia\"\n",
    "title-slide-attributes: \n",
    "  data-footer: \"* this presentation was made in a docker container\"\n",
    "---"
   ]
  },
  {
   "cell_type": "markdown",
   "id": "98f76c1c-84e0-4e6f-af98-55f584e89470",
   "metadata": {
    "editable": true,
    "slideshow": {
     "slide_type": "slide"
    },
    "tags": []
   },
   "source": [
    "## Presentation Instructions\n",
    "- Navigate: ↑ ← ↓ →\n",
    "- Open presenter's view with notes (presenter's version only): S\n",
    "- Enter/exit bird's-eye view: ESC"
   ]
  },
  {
   "cell_type": "markdown",
   "id": "0de997b9-5e50-4429-90bf-3f178be17e1e",
   "metadata": {
    "editable": true,
    "slideshow": {
     "slide_type": "slide"
    },
    "tags": []
   },
   "source": [
    "## Plan\n",
    "::: {.incremental}  \n",
    "- What containerization is\n",
    "- Why care\n",
    "- How to get started  \n",
    ":::  "
   ]
  },
  {
   "cell_type": "markdown",
   "id": "fa9b231d-08e6-4cc7-93d4-cb9456ecf25c",
   "metadata": {
    "editable": true,
    "slideshow": {
     "slide_type": "slide"
    },
    "tags": []
   },
   "source": [
    "## What?"
   ]
  },
  {
   "cell_type": "markdown",
   "id": "ded656e9-9339-4cd6-93d3-a7e9d30e0034",
   "metadata": {
    "editable": true,
    "slideshow": {
     "slide_type": "fragment"
    },
    "tags": []
   },
   "source": [
    "Container \n",
    ":   \n",
    "> a standard unit of software that packages up code and all its dependencies so the application runs quickly and reliably from one computing environment to another. "
   ]
  },
  {
   "cell_type": "markdown",
   "id": "426093aa-b272-481d-a1f4-81658e22e2aa",
   "metadata": {
    "editable": true,
    "jp-MarkdownHeadingCollapsed": true,
    "slideshow": {
     "slide_type": "notes"
    },
    "tags": []
   },
   "source": [
    "TLDR: a container is software virtualization with all necessary batteries included and redundant stuff excluded, s.t. it's lightweight and can run anywhere "
   ]
  },
  {
   "cell_type": "markdown",
   "id": "8d46beeb-3bc0-41f0-b074-cb8ddf87e5a8",
   "metadata": {
    "editable": true,
    "slideshow": {
     "slide_type": "slide"
    },
    "tags": []
   },
   "source": [
    "## What?"
   ]
  },
  {
   "cell_type": "markdown",
   "id": "927251e2-253d-4f3c-9e3d-7b395235b6df",
   "metadata": {
    "editable": true,
    "slideshow": {
     "slide_type": "fragment"
    },
    "tags": []
   },
   "source": [
    "Docker\n",
    ":   \n",
    "> a (popular) freemium containerization platform.\n",
    "\n",
    "::: {.fragment}  \n",
    "Includes:  \n",
    "- Docker Desktop  \n",
    "- Docker Hub  \n",
    "- Docker Engine  \n",
    "- Docker Compose  \n",
    ":::  "
   ]
  },
  {
   "cell_type": "markdown",
   "id": "556ace64-8cc0-4dd9-99a1-373334222eb9",
   "metadata": {
    "editable": true,
    "jp-MarkdownHeadingCollapsed": true,
    "slideshow": {
     "slide_type": "notes"
    },
    "tags": []
   },
   "source": [
    "Technically, \"Docker\" as a platform has several components, listed here: Desktop, Hub, Engine, Compose. This can make it confusing when people say \"Docker\". Usually, when people say \"Docker\", they mean containerization as by docker. This is based on the use of the Engine, Compose, and maybe the Hub."
   ]
  },
  {
   "cell_type": "markdown",
   "id": "2a57becc-5fd8-40c9-9f30-0510bbbcfc3c",
   "metadata": {
    "editable": true,
    "slideshow": {
     "slide_type": "slide"
    },
    "tags": []
   },
   "source": [
    "## What?\n",
    "Docker\n",
    ":   \n",
    "> a (popular) freemium containerization platform.\n",
    "  \n",
    "Includes:  \n",
    "- Docker Desktop    \n",
    "- Docker Hub      :point_left:   \n",
    "- Docker Engine   :point_left:    \n",
    "- Docker Compose "
   ]
  },
  {
   "cell_type": "markdown",
   "id": "d154fb00-7684-485b-9839-41d0ee87958b",
   "metadata": {
    "editable": true,
    "jp-MarkdownHeadingCollapsed": true,
    "slideshow": {
     "slide_type": "notes"
    },
    "tags": []
   },
   "source": [
    "Today, we shall concentrate on using the Docker Engine + the Hub through the Linux CLI. When I say \"Docker\" in this presentation, this is what I will usually mean."
   ]
  },
  {
   "cell_type": "markdown",
   "id": "229647da-0413-45bd-a9d6-34b5b75adf15",
   "metadata": {
    "editable": true,
    "slideshow": {
     "slide_type": "slide"
    },
    "tags": []
   },
   "source": [
    "## Why?"
   ]
  },
  {
   "cell_type": "markdown",
   "id": "807a4450-ea28-4635-ae64-626fe795b978",
   "metadata": {
    "editable": true,
    "slideshow": {
     "slide_type": "fragment"
    },
    "tags": []
   },
   "source": [
    "Career POV:"
   ]
  },
  {
   "cell_type": "markdown",
   "id": "112271a7-0d17-4332-b7f3-b4c925d5dd3c",
   "metadata": {
    "editable": true,
    "slideshow": {
     "slide_type": "fragment"
    },
    "tags": []
   },
   "source": [
    "- Docker/Containers are ubiquitous => (usually) good for your resume<sup>*</sup>"
   ]
  },
  {
   "cell_type": "markdown",
   "id": "4b0d370c-da06-4f32-b193-244196c7f0f3",
   "metadata": {
    "editable": true,
    "jp-MarkdownHeadingCollapsed": true,
    "slideshow": {
     "slide_type": "notes"
    },
    "tags": []
   },
   "source": [
    "Arguably, one of the value propositions of an internship is to make you as job-ready as possible for as wide of an array of opportunities as possible (in DS/ML). Within a subset of the DS/ML job market, there are some opportunities where having experience with auxiliary tooling (e.g. version control, Linux CLI) is an asset. Containerization is one such tool.  \n",
    "\n",
    "\\* The caveat is of course containerization is not *required* in all jobs. E.g. teams that tend to use this tech more are production/enterprise-grade DS/ML teams. So usually not as required/marketable in more ad-hoc DS teams, where you run one-off experiments and research. \n",
    "\n",
    "That said, containers are everywhere. E.g. \"From Gmail to YouTube to Search, everything at Google runs in containers.<a name=\"cite_ref-1\"></a>[<sup>[1]</sup>](#cite_note-1) If you used a smartphone app, chances are it is served up to you from a container. Beside marketability as skill, you may also find containers useful in your own projects."
   ]
  },
  {
   "cell_type": "markdown",
   "id": "70dfa4d8-37e5-4e8b-98e6-93ca570414c2",
   "metadata": {
    "editable": true,
    "slideshow": {
     "slide_type": "fragment"
    },
    "tags": []
   },
   "source": [
    "- Docker/Containers are integral to our/others' tech stack, but uni's often don't teach this => opportunity to learn"
   ]
  },
  {
   "cell_type": "markdown",
   "id": "a4fbbdff-e653-43a7-832c-054e3884d32f",
   "metadata": {
    "editable": true,
    "slideshow": {
     "slide_type": "notes"
    },
    "tags": []
   },
   "source": [
    "Traditional academic programs are good at teaching you core competences, like ML/statistical modeling and theory. But the latest tools of the trade used in the industry are often not taught; usually through no fault of their own. On the other hand, our ML team uses containers everywhere: from setting up replicable and shareable development environments to deploying and scaling entreprise machine learning solutions. Since this technology is frequently not part of DS/ML academic curriculum, being embedded in this team is an additional opportunity for you to expand your DS toolkit."
   ]
  },
  {
   "cell_type": "markdown",
   "id": "984ba7dc-b130-411f-b5d2-1f8432f96495",
   "metadata": {
    "editable": true,
    "slideshow": {
     "slide_type": "slide"
    },
    "tags": []
   },
   "source": [
    "## Why?"
   ]
  },
  {
   "cell_type": "markdown",
   "id": "07734392-e132-4648-819a-cadb903d21a4",
   "metadata": {
    "editable": true,
    "slideshow": {
     "slide_type": "fragment"
    },
    "tags": []
   },
   "source": [
    "Practical POV:"
   ]
  },
  {
   "cell_type": "markdown",
   "id": "aecb7c03-255f-438e-952c-061831cee58b",
   "metadata": {
    "editable": true,
    "slideshow": {
     "slide_type": "fragment"
    },
    "tags": []
   },
   "source": [
    "- Separation of responsibility"
   ]
  },
  {
   "cell_type": "markdown",
   "id": "41f7857c-c6fe-4c2e-83ca-cefdb9e9b48b",
   "metadata": {
    "editable": true,
    "slideshow": {
     "slide_type": "notes"
    },
    "tags": []
   },
   "source": [
    "<a name=\"cite_ref-1\"></a>[<sup>[1]</sup>](#cite_note-1)  \n",
    "\n",
    "Containerization provides a clear separation of responsibility, as developers focus on application logic and dependencies, while IT operations teams can focus on deployment and management instead of application details such as specific software versions and configurations."
   ]
  },
  {
   "cell_type": "markdown",
   "id": "44f95cb7-b34b-4abc-9576-6fd44b3a0682",
   "metadata": {
    "editable": true,
    "slideshow": {
     "slide_type": "fragment"
    },
    "tags": []
   },
   "source": [
    "- Workload portability"
   ]
  },
  {
   "cell_type": "markdown",
   "id": "f5eb8e8a-8ed0-4ba1-885e-0ac173263839",
   "metadata": {
    "editable": true,
    "slideshow": {
     "slide_type": "notes"
    },
    "tags": []
   },
   "source": [
    "<a name=\"cite_ref-1\"></a>[<sup>[1]</sup>](#cite_note-1)  \n",
    "\n",
    "Containers can run virtually anywhere, greatly easing development and deployment: on Linux, Windows, and Mac operating systems; on virtual machines or on physical servers; on a developer’s machine or in data centers on-premises; and of course, in the public cloud. "
   ]
  },
  {
   "cell_type": "markdown",
   "id": "72148e5d-2827-43e9-8ccc-014b768d2d98",
   "metadata": {
    "editable": true,
    "slideshow": {
     "slide_type": "fragment"
    },
    "tags": []
   },
   "source": [
    "- Application isolation"
   ]
  },
  {
   "cell_type": "markdown",
   "id": "6b7e1c26-388f-4449-8c50-a9ac659f39c4",
   "metadata": {
    "editable": true,
    "slideshow": {
     "slide_type": "notes"
    },
    "tags": []
   },
   "source": [
    "<a name=\"cite_ref-1\"></a>[<sup>[1]</sup>](#cite_note-1)  \n",
    "\n",
    "Containers virtualize CPU, memory, storage, and network resources at the operating system level, providing developers with a view of the OS logically isolated from other applications. Applications are safer in containers.<a name=\"cite_ref-3\"></a>[<sup>[3]</sup>](#cite_note-3)"
   ]
  },
  {
   "cell_type": "markdown",
   "id": "95d22ebd-3de8-48d7-82a1-6b1bbc0efc45",
   "metadata": {
    "editable": true,
    "slideshow": {
     "slide_type": "slide"
    },
    "tags": []
   },
   "source": [
    "## Why?\n",
    "![](media/container-vm-whatcontainer_2-980x783.png){.absolute top=125 left=0 height=400}    \n",
    "![](media/docker-containerized-appliction-blue-border_2-980x783.png){.absolute .fragment top=125 right=50 height=400}    \n",
    "\n",
    "::: {.fragment}  \n",
    "![](media/cat-turtle-animals-fun.gif){.absolute top=225 left=20 height=400}    \n",
    "![](media/cheetah-running.gif){.absolute top=225 right=30 height=300}     \n",
    ":::"
   ]
  },
  {
   "cell_type": "markdown",
   "id": "1838edb2-8e15-4a29-a9b5-f27e50a1735a",
   "metadata": {
    "editable": true,
    "slideshow": {
     "slide_type": "notes"
    },
    "tags": []
   },
   "source": [
    "When trying to solve for the practical items on the previous slide, things like package environments (e.g. `venv`, `conda`, etc.) can help, but they don't replicate enough of the OS for full portability. E.g. your co-worker or the production server in the cloud may have Linux while you have developed in a `conda` environment on a Mac. To solve this problem we could try using a VM. But VMs virtualize the hardware and include the full OS. This makes them more hardware intensive and usually bigger in size (tens of GBs), and slow to boot. \n",
    "\n",
    "NEXT FRAGMENT\n",
    "\n",
    "Containers, on the other hand, virtualize software only, are less hardware-hungry, and share the OS kernel. Containers, on the other hand, virtualize software only, are less hardware-hungry, and share the OS kernel. This makes them faster and more economical than VMs while achieving portability and isolation. Containers are typically tens of MBs to a few GBs in size.\n",
    "\n",
    "NEXT FRAGMENT\n",
    "\n",
    "It is not that there are no use cases for VM's, but for the goals we're trying to achieve Docker Containers have become the industry and our team's standard."
   ]
  },
  {
   "cell_type": "markdown",
   "id": "02d3301c-b368-48dd-9c1e-353d9c4bd589",
   "metadata": {
    "editable": true,
    "slideshow": {
     "slide_type": "slide"
    },
    "tags": []
   },
   "source": [
    "## TLDR So Far\n",
    "\n",
    "::: {.column width=\"50%\"}   \n",
    "::: {.fragment}  \n",
    "Containers:  \n",
    "\n",
    "- ubiquotous  \n",
    "- shippable  \n",
    "- isolated  \n",
    "- cross-platform  \n",
    "- light   \n",
    "- free     \n",
    ":::  \n",
    ":::\n",
    "\n",
    "\n",
    "::: {.column width=\"50%\"}   \n",
    "::: {.fragment}  \n",
    "Docker: \n",
    "\n",
    "- makes containers easier  \n",
    "- popular\n",
    "- free for personal use\n",
    "\n",
    ":::    \n",
    ":::  "
   ]
  },
  {
   "attachments": {},
   "cell_type": "markdown",
   "id": "8cc50004-f66d-4ad8-b1a1-45ff282f1e8d",
   "metadata": {
    "editable": true,
    "slideshow": {
     "slide_type": "slide"
    },
    "tags": []
   },
   "source": [
    "## How?\n",
    "### Workflow: from a Dockerfile\n",
    "::::: {.columns}\n",
    "\n",
    ":::: {.column width=\"25%\"}  \n",
    "\n",
    "::: {.fragment fragment-index=1}\n",
    ":::{style=\"text-align: center\"}  \n",
    "\n",
    "![](media/docker_file_orange.png){fig-align=\"center\" height=200}\n",
    "Dockerfile\n",
    "\n",
    ":::\n",
    ":::\n",
    "::::  \n",
    "\n",
    ":::: {.column width=\"10%\"}  \n",
    "::: {style=\"font-size: 100%;\"}\n",
    "::: {.absolute top=265 left=260}\n",
    "::: {.fragment fragment-index=2}\n",
    "```\n",
    "docker\n",
    "build\n",
    "```\n",
    ":::\n",
    ":::\n",
    "::: {.fragment fragment-index=2}\n",
    "![](media/arrow_right.png){.absolute top=300 height=\"50\"}\n",
    ":::\n",
    ":::\n",
    "::::\n",
    "\n",
    "\n",
    ":::: {.column width=\"25%\"}  \n",
    "\n",
    "::: {.fragment fragment-index=3}\n",
    ":::{style=\"text-align: center\"}  \n",
    "\n",
    "![](media/docker_image.png){fig-align=\"center\" height=200}   \n",
    "Docker Image\n",
    "\n",
    ":::  \n",
    ":::\n",
    "::::\n",
    "\n",
    ":::: {.column width=\"10%\"}  \n",
    "::: {style=\"font-size: 100%;\"}\n",
    "::: {.absolute top=265 right=315}\n",
    "::: {.fragment fragment-index=4}\n",
    "```\n",
    "docker\n",
    "run\n",
    "```\n",
    ":::\n",
    ":::\n",
    "::: {.fragment fragment-index=4}\n",
    "![](media/arrow_right.png){.absolute top=300 height=\"50\" right=335}\n",
    ":::\n",
    ":::\n",
    "::::\n",
    "\n",
    ":::: {.column width=\"30%\"}\n",
    "\n",
    "::: {.fragment fragment-index=5}\n",
    ":::{style=\"text-align: left\"}  \n",
    "\n",
    "![](media/docker_container.png){fig-align=\"right\" height=200}  \n",
    "Docker Container\n",
    "\n",
    ":::\n",
    ":::\n",
    "\n",
    "::::\n",
    "\n",
    ":::::  \n",
    "\n",
    "\n",
    "\n"
   ]
  },
  {
   "cell_type": "markdown",
   "id": "77d6c034-a601-47ec-92a8-6e7cd4fc519f",
   "metadata": {
    "editable": true,
    "slideshow": {
     "slide_type": "notes"
    },
    "tags": []
   },
   "source": [
    "We shall explain the individual elements of the Docker workflow in more detail later, but here's the workflow in a nutshell: NEXT FRAGMENT  \n",
    "We go from a Dockerfile, which is a just a plain textfile that the docker engine interprets... NEXT FRAGMENT  \n",
    "Via a `docker build` command. NEXT FRAGMENT  \n",
    "To turn it into a Docker Image. NEXT FRAGMENT  \n",
    "We then use the `docker run` command... NEXT FRAGMENT  \n",
    "To turn an image into a Docker Container.  \n",
    "\n",
    "The analogy with programming is Dockerfile is like your \"source code\". When you do `docker build`, it's like compiling it into an `image` executable. Then, you can run many different \"instances\" or execute that \"compiled\" code, or `image`. These executed image \"instances\" are Docker containers."
   ]
  },
  {
   "attachments": {},
   "cell_type": "markdown",
   "id": "1dd8fc73-f7ae-4583-8ac0-44090dee4c73",
   "metadata": {
    "editable": true,
    "slideshow": {
     "slide_type": "slide"
    },
    "tags": []
   },
   "source": [
    "## How?\n",
    "### Workflow: from a Registry\n",
    "::::: {.columns}\n",
    "\n",
    ":::: {.column width=\"25%\"}  \n",
    "\n",
    ":::{style=\"text-align: center\"}  \n",
    "\n",
    "![](media/docker_registry.svg){fig-align=\"center\" height=200}\n",
    "Docker Registry\n",
    "\n",
    ":::\n",
    "::::  \n",
    "\n",
    ":::: {.column width=\"10%\"}  \n",
    "::: {style=\"font-size: 100%;\"}\n",
    "::: {.absolute top=265 left=260}\n",
    "```\n",
    "docker\n",
    "pull\n",
    "```\n",
    ":::\n",
    "![](media/arrow_right.png){.absolute top=300 height=\"50\"}\n",
    ":::\n",
    "::::\n",
    "\n",
    "\n",
    ":::: {.column width=\"25%\"}  \n",
    "\n",
    ":::{style=\"text-align: center\"}  \n",
    "\n",
    "![](media/docker_image.png){fig-align=\"center\" height=200}   \n",
    "Docker Image\n",
    "\n",
    ":::\n",
    "::::\n",
    "\n",
    ":::: {.column width=\"10%\"}  \n",
    "::: {style=\"font-size: 100%;\"}\n",
    "::: {.absolute top=265 right=315}\n",
    "```\n",
    "docker\n",
    "run\n",
    "```\n",
    ":::\n",
    "![](media/arrow_right.png){.absolute top=300 height=\"50\" right=335}\n",
    ":::\n",
    "::::\n",
    "\n",
    ":::: {.column width=\"28%\"}\n",
    "\n",
    ":::{style=\"text-align: left\"}  \n",
    "\n",
    "![](media/docker_container.png){fig-align=\"right\" height=200}  \n",
    "Docker Container\n",
    "\n",
    ":::\n",
    "\n",
    "::::\n",
    "\n",
    ":::::  \n",
    "\n",
    "\n",
    "\n"
   ]
  },
  {
   "cell_type": "markdown",
   "id": "2fdbe302-cbc6-48fd-aee8-cdc03be937d5",
   "metadata": {
    "editable": true,
    "slideshow": {
     "slide_type": "notes"
    },
    "tags": []
   },
   "source": [
    "Note that we don't have to start with the Dockerfile. We can download a pre-built image from a container registry<a name=\"cite_ref-4\"></a>[<sup>[4]</sup>](#cite_note-4). This is useful when we don't want to write our own Dockerfile and build an image. Our ML team has a private registry. Docker Hub is a popular public registry.  "
   ]
  },
  {
   "cell_type": "markdown",
   "id": "f61e246b-0d7c-4539-bee6-56ea77ecbc7e",
   "metadata": {
    "editable": true,
    "slideshow": {
     "slide_type": "slide"
    },
    "tags": []
   },
   "source": [
    "## Docker Image {.center}"
   ]
  },
  {
   "cell_type": "markdown",
   "id": "90f8f71e-aa8c-4f02-9a38-047226e76ce4",
   "metadata": {
    "editable": true,
    "slideshow": {
     "slide_type": "slide"
    },
    "tags": []
   },
   "source": [
    "## How?\n",
    "### Docker Image: Naming\n",
    "\n",
    "::: {.incremental}\n",
    "- Name structure:  `registry/repository/image_name:tag`\n",
    "    - `registry` - Is registry where the image is hosted; when skipped, defaults to `docker.io`, i.e. the Docker Hub\n",
    "    - `repository` - Is repository where the image is hosted; not needed for Docker Official Images\n",
    "    - `image_name` - Is the name of the image itself.\n",
    "    - `tag` - Is a tagged \"state\" of that image that the creator has deemed useful.  \n",
    ":::  "
   ]
  },
  {
   "cell_type": "markdown",
   "id": "8c6a7836-c413-4b78-9361-402c91e8eab9",
   "metadata": {
    "editable": true,
    "slideshow": {
     "slide_type": "notes"
    },
    "tags": []
   },
   "source": [
    "This should be self-explanatory."
   ]
  },
  {
   "cell_type": "markdown",
   "id": "4e3559ff-73ab-471d-a909-21f7d041073e",
   "metadata": {
    "editable": true,
    "slideshow": {
     "slide_type": "slide"
    },
    "tags": []
   },
   "source": [
    "## How?\n",
    "### Docker Image: Naming\n",
    "\n",
    "- Name structure:  `registry/repository/image_name:tag`\n",
    "\n",
    "::: {.incremental}\n",
    "- For example:\n",
    "\n",
    "::: {.fragment}\n",
    "```bash\n",
    "docker.io/python:3.6.4  # Image name in a Docker Hub\n",
    "python:3.6.4  # Same as above\n",
    "pytorch/pytorch:2.4.0-cuda11.8-cudnn9-runtime  # In a Docker Hub/Pytorch repo\n",
    "my_private_registry/some/repo/my_image:cool_tag-1.3  # In a private registry\n",
    "```\n",
    ":::\n",
    "- [Docker Official Images](https://docs.docker.com/trusted-content/official-images/){target=\"_blank} skip `repository` name; considered common starting points and more secure\n",
    "- You can see Docker Hub repositories/images via browser [here](https://hub.docker.com/){target=\"_blank\"}  \n",
    ":::\n"
   ]
  },
  {
   "cell_type": "markdown",
   "id": "cbb03e08-b275-4caa-a1c5-cecfaf2abc5d",
   "metadata": {
    "editable": true,
    "slideshow": {
     "slide_type": "slide"
    },
    "tags": []
   },
   "source": [
    "## How?\n",
    "### Docker Image: List\n",
    "\n",
    "::: {.fragment}  \n",
    "Your turn! List your local images in Linux CLI:\n",
    "```bash\n",
    "docker images\n",
    "```\n",
    ":::\n",
    "\n",
    "::: {.fragment}  \n",
    "If you need to report digest numbers:\n",
    "```bash\n",
    "docker images --digests\n",
    "```\n",
    "Digest numbers are *more likely* (i.e. still not guaranteed) to uniquely identify an image than just a name and tag combination.  \n",
    ":::"
   ]
  },
  {
   "cell_type": "markdown",
   "id": "3cf5b49f-3d7a-4d12-83eb-a08c4d937a5d",
   "metadata": {
    "editable": true,
    "slideshow": {
     "slide_type": "notes"
    },
    "tags": []
   },
   "source": [
    "As mentioned, `registry` is optional, and defaults to Docker Hub. `repository` is optional for Docker Official Images."
   ]
  },
  {
   "cell_type": "markdown",
   "id": "f27b6910-8227-4b81-9298-a94b0961c326",
   "metadata": {
    "editable": true,
    "slideshow": {
     "slide_type": "notes"
    },
    "tags": []
   },
   "source": [
    "If you're just staring to do Docker locally, this list may be empty."
   ]
  },
  {
   "cell_type": "markdown",
   "id": "99ed5486-540f-4f5a-bcea-f52d93692dbf",
   "metadata": {
    "editable": true,
    "jp-MarkdownHeadingCollapsed": true,
    "slideshow": {
     "slide_type": "slide"
    },
    "tags": []
   },
   "source": [
    "## How?\n",
    "### Docker Image: Pull\n",
    "::: {.fragment .small}  \n",
    "Now try pulling (== downloading) this Alpine Linux image from the Docker Hub registry:\n",
    "```bash\n",
    "docker pull docker.io/alpine:3.14\n",
    "```\n",
    "Because `docker.io` is the default, this would do the same:\n",
    "```bash\n",
    "docker pull alpine:3.14\n",
    "```\n",
    ":::\n",
    "\n",
    "::: {.fragment}  \n",
    "Once pulled, you have this image locally, so if you try pulling again, it won't download (unless the image changed in the registry).  \n",
    ":::\n",
    "\n",
    "::: {.fragment}  \n",
    "Check your docker images again to see the newly pulled image it there:\n",
    "```bash\n",
    "docker images\n",
    "```\n",
    ":::"
   ]
  },
  {
   "cell_type": "markdown",
   "id": "c9320672-ce07-48bf-9bba-3611d825f252",
   "metadata": {
    "editable": true,
    "jp-MarkdownHeadingCollapsed": true,
    "slideshow": {
     "slide_type": "slide"
    },
    "tags": []
   },
   "source": [
    "## How?\n",
    "### Docker Image: Delete\n",
    "::: {.fragment}  \n",
    "Note that `docker images` lists images both by repo, tag, and image ID (which is the hash for the last layer). You can delete an image in various ways.  \n",
    "Try this (by image name):\n",
    "```bash\n",
    "docker rmi alpine:3.14\n",
    "```\n",
    "OR this (by beginning characters that *uniquely* match an `IMAGE ID`):\n",
    "```bash\n",
    "docker rmi 9e1\n",
    "```\n",
    "Then check your docker images again to confirm deletion:\n",
    "```bash\n",
    "docker images\n",
    "```\n",
    ":::"
   ]
  },
  {
   "cell_type": "markdown",
   "id": "7372d90f-4013-46d2-ab4d-7ec7b29da41c",
   "metadata": {
    "editable": true,
    "jp-MarkdownHeadingCollapsed": true,
    "slideshow": {
     "slide_type": "slide"
    },
    "tags": []
   },
   "source": [
    "## How?\n",
    "\n",
    "### Docker Image: Login\n",
    "\n",
    "Note that, if we were pulling from a private registry, we'd likely have to login first:  \n",
    "```bash   \n",
    "docker login my_private_registry  \n",
    "```  \n",
    "\n",
    "Then pull from that registry:  \n",
    "```bash  \n",
    "docker pull my_private_registry/some/repo/my_image:my_super_cool_tag-1.3  \n",
    "```  \n",
    "\n",
    "::: {.fragment}  \n",
    "Less commonly used, but to push an image into a private repository:\n",
    "```bash\n",
    "docker push my_private_registry/some/repo/my_image:my_super_cool_tag-1.3\n",
    "```\n",
    ":::  \n",
    "\n"
   ]
  },
  {
   "cell_type": "markdown",
   "id": "eab1d376-98d0-436f-80c3-bad9988321aa",
   "metadata": {
    "editable": true,
    "slideshow": {
     "slide_type": "slide"
    },
    "tags": []
   },
   "source": [
    "## Docker Container {.center}"
   ]
  },
  {
   "cell_type": "markdown",
   "id": "737a781d-ca50-400d-8bb0-696fa3b33a41",
   "metadata": {
    "editable": true,
    "slideshow": {
     "slide_type": ""
    },
    "tags": []
   },
   "source": [
    "## How?\n",
    "\n",
    "### Docker Container\n",
    "\n",
    "::: {.fragment}  \n",
    "**Use case**: Setting up a portable and reproducible DS development environment.  \n",
    ":::\n",
    "\n",
    "::: {.fragment}  \n",
    "Since we work in DS/ML, let's download this Python scientific stack image from the official [Jupyter Docker Stacks](https://jupyter-docker-stacks.readthedocs.io/en/latest/){target=\"_blank\"}:\n",
    "```bash\n",
    "docker pull quay.io/jupyter/scipy-notebook:python-3.11.9\n",
    "```\n",
    "And, as usual, see that it's there:  \n",
    "```bash\n",
    "docker images\n",
    "```\n",
    ":::\n"
   ]
  },
  {
   "cell_type": "markdown",
   "id": "dc2880b3-94de-4859-adc6-016bb4578923",
   "metadata": {
    "editable": true,
    "slideshow": {
     "slide_type": "notes"
    },
    "tags": []
   },
   "source": [
    "Let's go over a **use case**: setting up a Python-based, reproducible/portable DS development environment.  \n",
    "\n",
    "Note that we are downloading from a different registry, `quai.io`, and from the official `jupyter` repo."
   ]
  },
  {
   "cell_type": "markdown",
   "id": "6235fab8-a8ef-48a1-b29e-bafba8203b59",
   "metadata": {
    "editable": true,
    "slideshow": {
     "slide_type": ""
    },
    "tags": []
   },
   "source": [
    "## How?\n",
    "\n",
    "### Docker Container: Run\n",
    "\n",
    "::: {.fragment}\n",
    "The syntax for command to start a container:\n",
    "```bash\n",
    "docker run [OPTIONS] IMAGE[:TAG|@DIGEST] [COMMAND] [ARG...]\n",
    "```\n",
    ":::\n",
    "\n",
    "::: {.fragment}\n",
    "Let's start a container for the first time from the image we downloaded (make sure nothing is taking that port currently, or map onto a different port).:\n",
    "```bash\n",
    "docker run -p 8888:8888 quay.io/jupyter/scipy-notebook:python-3.11.9\n",
    "```\n",
    ":::\n"
   ]
  },
  {
   "cell_type": "markdown",
   "id": "7d1f1ee0-907b-4e6d-acac-b5851d0f5f76",
   "metadata": {
    "editable": true,
    "slideshow": {
     "slide_type": "notes"
    },
    "tags": []
   },
   "source": [
    "Remember that a Container is like an \"instance\" of an Image. Let's \"instantiate\" an image into a container by doing the `run` command.  \n",
    "We also see the `-p` flag, which maps port `8888` on our host machine to the `8888` on the container side. This is because Jupyter server starts at the `8888` port by default.\n",
    "\n",
    "And you can run many different containers from this same image. You would just have to make sure to choose a new unused port on the host for the port mapping.\n",
    "\n",
    "If you ever forget the port order mapping, think `host:guest`."
   ]
  },
  {
   "cell_type": "markdown",
   "id": "64799c90-e331-4ca4-a39a-2121bd8b0994",
   "metadata": {
    "editable": true,
    "slideshow": {
     "slide_type": "slide"
    },
    "tags": []
   },
   "source": [
    "## How?\n",
    "\n",
    "### Docker Container: Run Cont'd\n",
    "\n",
    "::: {.fragment style=\"font-size: 75%;\"}  \n",
    "Now, assuming port `8888` on your host was not already taken, we should see the `http://127.0.0.1:8888/lab?token=...` URL in the CLI logs, and navigate to that address in the browser.  \n",
    ":::  \n",
    "\n",
    "\n",
    "::: {.fragment}   \n",
    "\n",
    "::: {style=\"font-size: 75%;\"}  \n",
    "To see all *running* containers, open a *new terminal session* (<kbd>CTRL</kbd> + <kbd>ALT</kbd> + <kbd>T</kbd> on Linux) and enter:  \n",
    ":::\n",
    "\n",
    "```bash\n",
    "docker ps\n",
    "```\n",
    "\n",
    "::: {style=\"font-size: 75%;\"}  \n",
    "This should list them all, including the image name from which the container was built, container name, ports, etc.    \n",
    ":::\n",
    "\n",
    ":::  "
   ]
  },
  {
   "cell_type": "markdown",
   "id": "9982e114-74c7-46d6-84cc-abc9d96e9f27",
   "metadata": {
    "editable": true,
    "slideshow": {
     "slide_type": "notes"
    },
    "tags": []
   },
   "source": [
    "If we go to the URL in our browser (on the host side), we can start developing in that instance."
   ]
  },
  {
   "cell_type": "markdown",
   "id": "045a157e-bdae-464b-8195-e08ec70c3397",
   "metadata": {
    "editable": true,
    "slideshow": {
     "slide_type": "slide"
    },
    "tags": []
   },
   "source": [
    "## How?\n",
    "\n",
    "### Docker Container: Stop\n",
    "\n",
    "::: {.fragment}\n",
    "To (gracefully) stop a container from running:\n",
    "```bash\n",
    "docker stop CONTAINER_NAME|CONTAINER_ID \n",
    "```\n",
    "\n",
    "::: {style=\"font-size: 75%;\"}  \n",
    "Just like with Docker images, containers can be idenfied with either a full container name *or* a full or partial container ID (with unique matching).  \n",
    ":::\n",
    "\n",
    ":::\n",
    "\n",
    "::: {.fragment}  \n",
    "Your turn! Find the ID and/or a name of your Jupyter container and stop it. Check via `docker ps` that it is no longer running.  \n",
    ":::"
   ]
  },
  {
   "cell_type": "markdown",
   "id": "fd692676-f33a-4db8-9091-d56afc508af5",
   "metadata": {
    "editable": true,
    "slideshow": {
     "slide_type": "slide"
    },
    "tags": []
   },
   "source": [
    "## How?\n",
    "\n",
    "### Docker Container: Stop Cont'd\n",
    "\n",
    "::: {.fragment fragment-index=1}  \n",
    "Note that, if there are any issues, like with a real PC, you can force shut down your container like so:\n",
    "```bash\n",
    "docker kill CONTAINER_NAME|CONTAINER_ID \n",
    "```\n",
    "The difference with `stop` is `kill` is akin to using the force shutdown button on your PC.*   \n",
    ":::\n",
    "\n",
    "::: {.fragment fragment-index=2}  \n",
    "Because this particular container was a Jupyter Server, we could have also <kbd>CTRL</kbd> + <kbd>C</kbd> in the live logs (STDOUT) to close the session down.  \n",
    ":::  \n",
    "\n",
    "::: {.fragment fragment-index=1}  \n",
    "::: {style=\"font-size: 35%; text-align: center;\"}  \n",
    "*in UNIX terms, `stop` attempts to `SIGTERM` first, before doing `SIGKILL`; `kill` just `SIGKILL`'s immediately  \n",
    ":::    \n",
    ":::  "
   ]
  },
  {
   "cell_type": "markdown",
   "id": "8abf6980-089f-49f9-b297-7d89955338f4",
   "metadata": {
    "editable": true,
    "jp-MarkdownHeadingCollapsed": true,
    "slideshow": {
     "slide_type": "slide"
    },
    "tags": []
   },
   "source": [
    "## How?\n",
    "\n",
    "### Docker Container: Stop Cont'd\n",
    "\n",
    "::: {.fragment}  \n",
    "You can see all containers, including the dormant ones with the `-a` flag. Try:\n",
    "```bash\n",
    "docker ps -a\n",
    "```\n",
    ":::"
   ]
  },
  {
   "cell_type": "markdown",
   "id": "3bf48dac-38da-4fe8-aac9-bb7ff8328c92",
   "metadata": {
    "editable": true,
    "jp-MarkdownHeadingCollapsed": true,
    "slideshow": {
     "slide_type": "slide"
    },
    "tags": []
   },
   "source": [
    "## How?\n",
    "\n",
    "### Docker Container: Stop Cont'd\n",
    "\n",
    "::: {.fragment}  \n",
    "You can restart a stopped/killed container that's already been `run`, i.e. created from an image:\n",
    "```bash\n",
    "docker start [OPTIONS] CONTAINER_NAME|CONTAINER_ID [CONTAINER...]\n",
    "```\n",
    ":::  "
   ]
  },
  {
   "cell_type": "markdown",
   "id": "d2998349-6926-45e2-95bb-e8408d403604",
   "metadata": {
    "editable": true,
    "jp-MarkdownHeadingCollapsed": true,
    "slideshow": {
     "slide_type": "slide"
    },
    "tags": []
   },
   "source": [
    "## How?\n",
    "\n",
    "### Docker Container: Stop Cont'd\n",
    "\n",
    "::: {.fragment}  \n",
    "To delete a stopped container for good:\n",
    "```bash\n",
    "docker rm [OPTIONS] CONTAINER_NAME|CONTAINER_ID [CONTAINER...]\n",
    "```\n",
    ":::  \n",
    "\n",
    "::: {.fragment}  \n",
    "Try deleting the Jupyter Server container we stopped earlier.  \n",
    ":::  "
   ]
  },
  {
   "cell_type": "markdown",
   "id": "36e11075-a64d-4522-a0e8-426b492cdec9",
   "metadata": {
    "editable": true,
    "slideshow": {
     "slide_type": "slide"
    },
    "tags": []
   },
   "source": [
    "## How?\n",
    "\n",
    "### Docker Container: Share Volumes\n",
    "\n",
    "::: {.fragment}  \n",
    "Let's complicate things a bit and learn some additional flags and other commands along the way.\n",
    "\n",
    "**Use case extension**: share our local volume so that we can access it from inside a container + persist file changes!  \n",
    ":::   \n"
   ]
  },
  {
   "cell_type": "markdown",
   "id": "499d3946-a46c-4624-b375-59202044077a",
   "metadata": {
    "editable": true,
    "slideshow": {
     "slide_type": "slide"
    },
    "tags": []
   },
   "source": [
    "## How? {auto-animate=true}\n",
    "\n",
    "### Docker Container: Share Volumes Cont'd \n",
    "\n",
    "::: {.fragment}  \n",
    "\n",
    "::: {style=\"font-size: 75%;\"}  \n",
    "TLDR: To share a host volume, we need to (re-)run the container where we want the volume mounted and use the `-v` flag:  \n",
    ":::\n",
    "\n",
    "```bash\n",
    "docker run -it --rm \\\n",
    "    --user \"$(id -u)\" --group-add users \\\n",
    "    -p 8888:8888 \\\n",
    "    -v \"${PWD}\"/:/home/jovyan/work \\\n",
    "    quay.io/jupyter/scipy-notebook:python-3.11.9 \n",
    "```\n",
    ":::  \n"
   ]
  },
  {
   "cell_type": "markdown",
   "id": "cd16ca23-5607-4204-972d-1c38c7f7bfe4",
   "metadata": {
    "editable": true,
    "slideshow": {
     "slide_type": "notes"
    },
    "tags": []
   },
   "source": [
    "Let's go over this line by line."
   ]
  },
  {
   "cell_type": "markdown",
   "id": "27e82d1d-b162-4e49-985c-644b01c8b3d0",
   "metadata": {
    "editable": true,
    "slideshow": {
     "slide_type": "slide"
    },
    "tags": []
   },
   "source": [
    "## How? {auto-animate=true}\n",
    "\n",
    "### Docker Container: Share Volumes Cont'd\n",
    "\n",
    "```{.bash code-line-numbers=\"1-5|1|2\"}\n",
    "docker run -it --rm \\\n",
    "    --user \"$(id -u)\" --group-add users \\\n",
    "    -p 8888:8888 \\\n",
    "    -v \"${PWD}\"/:/home/jovyan/work \\\n",
    "    quay.io/jupyter/scipy-notebook:python-3.11.9 \n",
    "```\n",
    "\n",
    "::: {style=\"font-size: 75%;\"}\n",
    "\n",
    "- `-it` makes the container interactive\n",
    "- `--rm` auto-removes the container after it gets stopped or killed\n",
    "- `--user` supplies container's user ID\n",
    "- `\"$(id -u)\"` - our host user ID; will be container user's user ID\n",
    "- `--group-add` adds a new user group. [Jupyter Stacks Docs tell us to do that](https://jupyter-docker-stacks.readthedocs.io/en/latest/using/troubleshooting.html#additional-tips-and-troubleshooting-commands-for-permission-related-errors){target=\"_blank\"}.\n",
    "\n",
    ":::  \n",
    "\n",
    "\n"
   ]
  },
  {
   "cell_type": "markdown",
   "id": "3a2ae340-1553-4ee6-b967-6ffeccacb52d",
   "metadata": {
    "editable": true,
    "slideshow": {
     "slide_type": "slide"
    },
    "tags": []
   },
   "source": [
    "## How?\n",
    "\n",
    "### Docker Container: Share Volumes Cont'd \n",
    "\n",
    "```{.bash code-line-numbers=\"3,5|4\"}\n",
    "docker run -it --rm \\\n",
    "    --user \"$(id -u)\" --group-add users \\\n",
    "    -p 8888:8888 \\\n",
    "    -v \"${PWD}\"/:/home/jovyan/work \\\n",
    "    quay.io/jupyter/scipy-notebook:python-3.11.9 \n",
    "```\n",
    "\n",
    "::: {style=\"font-size: 75%;\"}  \n",
    "- We use the same port mapping and image as before\n",
    "- The `-v` flag maps host to container volume. It uses the same `host:guest` syntax.\n",
    "- `\"${PWD}\"` - path of the current working directory (on host)\n",
    ":::\n",
    "\n"
   ]
  },
  {
   "cell_type": "markdown",
   "id": "d4b61202-5f0a-4d32-a8a1-a46cfe3d7986",
   "metadata": {
    "editable": true,
    "slideshow": {
     "slide_type": "slide"
    },
    "tags": []
   },
   "source": [
    "## How?\n",
    "\n",
    "### Docker Container: Share Volumes Cont'd \n",
    "\n",
    "```{.bash}\n",
    "docker run -it --rm \\\n",
    "    --user \"$(id -u)\" --group-add users \\\n",
    "    -p 8888:8888 \\\n",
    "    -v \"${PWD}\"/:/home/jovyan/work \\\n",
    "    quay.io/jupyter/scipy-notebook:python-3.11.9 \n",
    "```\n",
    "\n",
    "::: {.fragment}  \n",
    "::: {.callout-important}  \n",
    "Be careful! Mounting makes the Docker container think these files are its own.  Deleting a file inside the container ***WILL*** delete it on the host! That being said, mounting a file can be really useful for debugging and development.  \n",
    ":::  \n",
    ":::\n",
    "\n",
    "::: {.fragment}  \n",
    "`cd` into a safe directory to mount and run this monster!  \n",
    ":::  \n"
   ]
  },
  {
   "cell_type": "markdown",
   "id": "a3627a90-d5df-4db1-b518-cc97cf46b21b",
   "metadata": {
    "editable": true,
    "jp-MarkdownHeadingCollapsed": true,
    "slideshow": {
     "slide_type": "slide"
    },
    "tags": []
   },
   "source": [
    "## How?\n",
    "\n",
    "### Docker Container: Execute Commands\n",
    "\n",
    "::: {.fragment}  \n",
    "To run any command in a live container, use:\n",
    "```bash\n",
    "docker exec [OPTIONS] CONTAINER COMMAND [ARG...]\n",
    "```\n",
    ":::  \n",
    "\n",
    "::: {.fragment}  \n",
    "For example, to run an interactive (note the `-it`) Python shell:\n",
    "```bash\n",
    "docker exec -it CONTAINER_ID|CONTAINER_NAME python\n",
    "```\n",
    "Or an interactive (note the `-it`) `bash` terminal:\n",
    "```bash\n",
    "docker exec -it CONTAINER_ID|CONTAINER_NAME bash\n",
    "```  \n",
    ":::    "
   ]
  },
  {
   "cell_type": "markdown",
   "id": "5c633626-adae-418c-8f1f-10410f5921dc",
   "metadata": {
    "editable": true,
    "jp-MarkdownHeadingCollapsed": true,
    "slideshow": {
     "slide_type": "slide"
    },
    "tags": []
   },
   "source": [
    "## How?\n",
    "\n",
    "### Docker Container: Execute Commands Cont'd\n",
    "\n",
    "::: {.fragment}  \n",
    "Your turn! Let's see file persistence in action:  \n",
    "\n",
    "1.  Bash into your live Jupyter Server container  \n",
    "2.  Use `cd` and `ls` commands to check that your host directory mounted into the container\n",
    "3.  `touch` to make a test file from inside a container\n",
    "4.  Stop your container\n",
    "5.  Remove your container for good\n",
    "6.  On your host, make sure that the file you created persisted\n",
    "7.  Feel good  \n",
    ":::  "
   ]
  },
  {
   "cell_type": "markdown",
   "id": "97e47a5f-0c76-4fce-a93d-fb370409881c",
   "metadata": {
    "editable": true,
    "slideshow": {
     "slide_type": "slide"
    },
    "tags": []
   },
   "source": [
    "## Dockerfile {.center}"
   ]
  },
  {
   "cell_type": "markdown",
   "id": "0e51e976-dbe8-4af1-ae9c-29b03913ba5a",
   "metadata": {
    "editable": true,
    "jp-MarkdownHeadingCollapsed": true,
    "slideshow": {
     "slide_type": "slide"
    },
    "tags": []
   },
   "source": [
    "## How?\n",
    "\n",
    "### Dockerfile\n",
    "\n",
    "::: {.fragment}  \n",
    "So far: pulled images someone else made and instantiated them into containers  \n",
    ":::   \n",
    "\n",
    "::: {.fragment}  \n",
    "Up next: build our own images using Dockerfiles  \n",
    ":::   "
   ]
  },
  {
   "cell_type": "markdown",
   "id": "6df60772-4641-40bf-87f1-e60e678d961d",
   "metadata": {
    "editable": true,
    "jp-MarkdownHeadingCollapsed": true,
    "slideshow": {
     "slide_type": "slide"
    },
    "tags": []
   },
   "source": [
    "## How?\n",
    "\n",
    "### Dockerfile: Structure\n",
    "\n",
    "::: {.fragment}  \n",
    "TLDR: Dockerfile == fancy text file with layered instructions  \n",
    ":::   \n",
    "\n",
    "::: {.fragment}  \n",
    "::: {.incremental}  \n",
    "Longer version:  \n",
    "\n",
    "- By convention/expected default, named `Dockerfile`. But can be whatever.\n",
    "- Each line's format:  \n",
    "    - ```dockerfile  \n",
    "    INSTRUCTION arguments  \n",
    "    ```\n",
    "- Each line creates a new \"layer\"; from top to bottom (i.e. order matters)\n",
    "- Full list of Dockerfile commands [here](https://docs.docker.com/reference/dockerfile/){target=\"_blank\"}  \n",
    ":::  \n",
    ":::\n",
    "\n"
   ]
  },
  {
   "cell_type": "markdown",
   "id": "c7521680-55c3-4c11-80a5-13f1015be6e7",
   "metadata": {
    "editable": true,
    "slideshow": {
     "slide_type": "slide"
    },
    "tags": []
   },
   "source": [
    "## How?\n",
    "### Dockerfile: Structure [Real Example](https://github.com/jupyter/docker-stacks/blob/7a918f53599a896ec45cb6886c515be7adaee6c3/images/base-notebook/Dockerfile){target=\"_blank\"}\n",
    "\n",
    "::: {.fragment}  \n",
    "```dockerfile\n",
    "# Copyright (c) Jupyter Development Team.\n",
    "# Distributed under the terms of the Modified BSD License.\n",
    "ARG REGISTRY=quay.io\n",
    "ARG OWNER=jupyter\n",
    "ARG BASE_CONTAINER=$REGISTRY/$OWNER/docker-stacks-foundation\n",
    "FROM $BASE_CONTAINER\n",
    "\n",
    "LABEL maintainer=\"Jupyter Project <jupyter@googlegroups.com>\"\n",
    "\n",
    "# Fix: https://github.com/hadolint/hadolint/wiki/DL4006\n",
    "# Fix: https://github.com/koalaman/shellcheck/wiki/SC3014\n",
    "SHELL [\"/bin/bash\", \"-o\", \"pipefail\", \"-c\"]\n",
    "\n",
    "USER root\n",
    "\n",
    "# Install all OS dependencies for the Server that starts\n",
    "# but lacks all features (e.g., download as all possible file formats)\n",
    "RUN apt-get update --yes && \\\n",
    "    apt-get install --yes --no-install-recommends \\\n",
    "    # - Add necessary fonts for matplotlib/seaborn\n",
    "    #   See https://github.com/jupyter/docker-stacks/pull/380 for details\n",
    "    fonts-liberation \\\n",
    "    # - `pandoc` is used to convert notebooks to html files\n",
    "    #   it's not present in the aarch64 Ubuntu image, so we install it here\n",
    "    pandoc \\\n",
    "    # - `run-one` - a wrapper script that runs no more\n",
    "    #   than one unique instance of some command with a unique set of arguments,\n",
    "    #   we use `run-one-constantly` to support the `RESTARTABLE` option\n",
    "    run-one && \\\n",
    "    apt-get clean && rm -rf /var/lib/apt/lists/*\n",
    "\n",
    "USER ${NB_UID}\n",
    "\n",
    "# Install JupyterLab, Jupyter Notebook, JupyterHub and NBClassic\n",
    "# Generate a Jupyter Server config\n",
    "# Cleanup temporary files\n",
    "# Correct permissions\n",
    "# Do all this in a single RUN command to avoid duplicating all of the\n",
    "# files across image layers when the permissions change\n",
    "WORKDIR /tmp\n",
    "RUN mamba install --yes \\\n",
    "    'jupyterlab' \\\n",
    "    'notebook' \\\n",
    "    'jupyterhub' \\\n",
    "    'nbclassic' && \\\n",
    "    jupyter server --generate-config && \\\n",
    "    mamba clean --all -f -y && \\\n",
    "    npm cache clean --force && \\\n",
    "    jupyter lab clean && \\\n",
    "    rm -rf \"/home/${NB_USER}/.cache/yarn\" && \\\n",
    "    fix-permissions \"${CONDA_DIR}\" && \\\n",
    "    fix-permissions \"/home/${NB_USER}\"\n",
    "\n",
    "ENV JUPYTER_PORT=8888\n",
    "EXPOSE $JUPYTER_PORT\n",
    "\n",
    "# Configure container startup\n",
    "CMD [\"start-notebook.py\"]\n",
    "\n",
    "# Copy local files as late as possible to avoid cache busting\n",
    "COPY start-notebook.py start-notebook.sh start-singleuser.py start-singleuser.sh /usr/local/bin/\n",
    "COPY jupyter_server_config.py docker_healthcheck.py /etc/jupyter/\n",
    "\n",
    "# Fix permissions on /etc/jupyter as root\n",
    "USER root\n",
    "RUN fix-permissions /etc/jupyter/\n",
    "\n",
    "# HEALTHCHECK documentation: https://docs.docker.com/engine/reference/builder/#healthcheck\n",
    "# This healtcheck works well for `lab`, `notebook`, `nbclassic`, `server`, and `retro` jupyter commands\n",
    "# https://github.com/jupyter/docker-stacks/issues/915#issuecomment-1068528799\n",
    "HEALTHCHECK --interval=3s --timeout=1s --start-period=3s --retries=3 \\\n",
    "    CMD /etc/jupyter/docker_healthcheck.py || exit 1\n",
    "\n",
    "# Switch back to jovyan to avoid accidental container runs as root\n",
    "USER ${NB_UID}\n",
    "\n",
    "WORKDIR \"${HOME}\"\n",
    "```\n",
    ":::   \n",
    "\n"
   ]
  },
  {
   "cell_type": "markdown",
   "id": "26e91ec0-05bb-4158-abbc-aac4e6bbeb6c",
   "metadata": {
    "editable": true,
    "slideshow": {
     "slide_type": "notes"
    },
    "tags": []
   },
   "source": [
    "Explain various commands here.  \n",
    "\n",
    "Comments use pound signs."
   ]
  },
  {
   "cell_type": "markdown",
   "id": "7bb62397-3af4-4f63-a3e6-64a750426021",
   "metadata": {
    "editable": true,
    "slideshow": {
     "slide_type": "slide"
    },
    "tags": []
   },
   "source": [
    "## How?\n",
    "### Dockerfile: Structure [Real Example](https://github.com/jupyter/docker-stacks/blob/7a918f53599a896ec45cb6886c515be7adaee6c3/images/base-notebook/Dockerfile){target=\"_blank\"} Cont'd\n",
    "\n",
    "::: {.fragment}  \n",
    "Define build-time variables:\n",
    "```dockerfile\n",
    "ARG REGISTRY=quay.io\n",
    "ARG OWNER=jupyter\n",
    "ARG BASE_CONTAINER=$REGISTRY/$OWNER/docker-stacks-foundation\n",
    "```\n",
    ":::\n",
    "\n",
    "::: {.fragment}\n",
    "Define base image layer (examples):\n",
    "```dockerfile\n",
    "FROM python:3.6.4\n",
    "# OR\n",
    "FROM ubuntu@sha256:6eb24585b1b2e7402600450d289ea0fd195cfb76893032bbbb3943e041ec8a65\n",
    "# OR\n",
    "FROM $BASE_CONTAINER\n",
    "```\n",
    ":::\n",
    "\n",
    "::: {.fragment}  \n",
    "Add metadata to your image\n",
    "```dockerfile\n",
    "LABEL maintainer=\"Jupyter Project <jupyter@googlegroups.com>\"\n",
    "```\n",
    ":::\n"
   ]
  },
  {
   "cell_type": "markdown",
   "id": "c211b422-29e7-44cd-b8f8-4bb160637c55",
   "metadata": {
    "editable": true,
    "jp-MarkdownHeadingCollapsed": true,
    "slideshow": {
     "slide_type": "slide"
    },
    "tags": []
   },
   "source": [
    "## How?\n",
    "### Dockerfile: Structure [Real Example](https://github.com/jupyter/docker-stacks/blob/7a918f53599a896ec45cb6886c515be7adaee6c3/images/base-notebook/Dockerfile){target=\"_blank\"} Cont'd\n",
    "\n",
    "::: {.fragment}  \n",
    "Set the default shell of an image (in this case `bash`):\n",
    "```dockerfile\n",
    "SHELL [\"/bin/bash\", \"-o\", \"pipefail\", \"-c\"]\n",
    "```\n",
    ":::\n",
    "\n",
    "::: {.fragment}  \n",
    "Set user (and group ID):\n",
    "```dockerfile\n",
    "USER root\n",
    "# OR\n",
    "USER ${NB_UID}\n",
    "```\n",
    ":::\n",
    "\n",
    "::: {.fragment}  \n",
    "Run some (bash) commands (e.g. for Linux package installations):\n",
    "```dockerfile\n",
    "RUN apt-get update --yes && \\\n",
    "    apt-get install --yes --no-install-recommends \\\n",
    "    fonts-liberation \\\n",
    "    pandoc \\\n",
    "    run-one && \\\n",
    "    apt-get clean && rm -rf /var/lib/apt/lists/*\n",
    "```\n",
    ":::"
   ]
  },
  {
   "cell_type": "markdown",
   "id": "669c01d5-a876-4821-bc1e-ed185d6cc7a4",
   "metadata": {
    "editable": true,
    "slideshow": {
     "slide_type": "slide"
    },
    "tags": []
   },
   "source": [
    "## How?\n",
    "### Dockerfile: Structure [Real Example](https://github.com/jupyter/docker-stacks/blob/7a918f53599a896ec45cb6886c515be7adaee6c3/images/base-notebook/Dockerfile){target=\"_blank\"} Cont'd\n",
    "::: {.fragment}  \n",
    "Change working directory:\n",
    "```dockerfile\n",
    "WORKDIR /tmp\n",
    "```\n",
    ":::\n",
    "\n",
    "::: {.fragment}  \n",
    "Set an environment variable:\n",
    "```dockerfile\n",
    "ENV JUPYTER_PORT=8888\n",
    "```\n",
    ":::\n",
    "\n",
    "::: {.fragment}  \n",
    "Label a container's port (it's localhost) as relevant to a future user:\n",
    "```dockerfile\n",
    "EXPOSE 8888, 5000\n",
    "# OR\n",
    "EXPOSE $JUPYTER_PORT\n",
    "```\n",
    ":::\n",
    "\n",
    "::: {.fragment}  \n",
    "Set the command to be executed when running a container from an image:\n",
    "```dockerfile\n",
    "CMD [\"start-notebook.py\"]  \n",
    "```\n",
    ":::"
   ]
  },
  {
   "cell_type": "markdown",
   "id": "1ab88a4e-7914-4585-9afa-aa6eb57a1571",
   "metadata": {
    "editable": true,
    "slideshow": {
     "slide_type": "slide"
    },
    "tags": []
   },
   "source": [
    "## How?\n",
    "### Dockerfile: Structure [Real Example](https://github.com/jupyter/docker-stacks/blob/7a918f53599a896ec45cb6886c515be7adaee6c3/images/base-notebook/Dockerfile){target=\"_blank\"} Cont'd\n",
    "::: {.fragment}  \n",
    "Copy files/directories (from host -> future container): \n",
    "```dockerfile\n",
    "COPY start-notebook.py start-notebook.sh start-singleuser.py start-singleuser.sh /usr/local/bin/\n",
    "COPY jupyter_server_config.py docker_healthcheck.py /etc/jupyter/\n",
    "```\n",
    ":::\n",
    "\n",
    "::: {.fragment}  \n",
    "Check container health by running a command inside the container:\n",
    "```dockerfile\n",
    "HEALTHCHECK --interval=3s --timeout=1s --start-period=3s --retries=3 \\\n",
    "    CMD /etc/jupyter/docker_healthcheck.py || exit 1\n",
    "```\n",
    ":::"
   ]
  },
  {
   "cell_type": "markdown",
   "id": "cab90ae0-4aca-4c5e-b3ff-737f0ad93dc0",
   "metadata": {
    "editable": true,
    "jp-MarkdownHeadingCollapsed": true,
    "slideshow": {
     "slide_type": "slide"
    },
    "tags": []
   },
   "source": [
    "## How?\n",
    "\n",
    "### Dockerfile: Your First Dockerfile\n",
    "\n",
    "**Use case extension**: Use `Dockerfile` to customize the image we used previously.   \n",
    "\n",
    "::: {.fragment}  \n",
    "Make a new directory (or just use an existing one that is empty) and create a file named `Dockerfile` there. (Keep the file open in your editor.)    \n",
    "\n",
    "Let's build a simple Dockerfile that extends our original Jupyter container layer by layer now.  \n",
    "::: "
   ]
  },
  {
   "cell_type": "markdown",
   "id": "78e117cc-8985-499d-a0b9-f2139c2e28ad",
   "metadata": {
    "editable": true,
    "slideshow": {
     "slide_type": "slide"
    },
    "tags": []
   },
   "source": [
    "## How?\n",
    "\n",
    "### Dockerfile: Your First Dockerfile Cont'd\n",
    "\n",
    "::: {.incremental}    \n",
    "1. To motivate our use case, run the same Jupyter image we used earlier, from that directory:\n",
    "   ```bash\n",
    "    docker run -it --rm \\\n",
    "        --user \"$(id -u)\" --group-add users \\\n",
    "        -p 8888:8888 \\\n",
    "        -v \"${PWD}\"/:/home/jovyan/work \\\n",
    "        quay.io/jupyter/scipy-notebook:python-3.11.9 \n",
    "    ```\n",
    "2. Go to your Jupyter session via a web browser and create a new notebook (which should persist even if we delete the container later).  \n",
    ":::  \n"
   ]
  },
  {
   "cell_type": "markdown",
   "id": "62029c56-5921-4af2-973d-52f00d75c5d0",
   "metadata": {
    "editable": true,
    "slideshow": {
     "slide_type": "slide"
    },
    "tags": []
   },
   "source": [
    "## How?\n",
    "\n",
    "### Dockerfile: Your First Dockerfile Cont'd\n",
    "\n",
    "::: {.incremental}    \n",
    "\n",
    "3. In that notebook, in the first cell, import the pandas package and make a test dataframe. No surprises there.\n",
    "   ```python\n",
    "   import pandas as pd\n",
    "   df = pd.DataFrame(dict(a=[1,3,2], b=[3,2,1]))\n",
    "   ```\n",
    "4. Let's say we want to use `plotly` for our data visualization. In a second cell, try:\n",
    "   ```python\n",
    "   import plotly.express as px\n",
    "   fig = px.bar(df, x='b', y='a')\n",
    "   fig.show()\n",
    "   ```\n",
    "   Then save this notebook.  \n",
    ":::  \n",
    "\n"
   ]
  },
  {
   "cell_type": "markdown",
   "id": "4995239a-a422-49e5-8863-7916b148dfed",
   "metadata": {
    "editable": true,
    "jp-MarkdownHeadingCollapsed": true,
    "slideshow": {
     "slide_type": "slide"
    },
    "tags": []
   },
   "source": [
    "## How?\n",
    "\n",
    "### Dockerfile: Structure Cont'd\n",
    "\n",
    "::: {.fragment}  \n",
    "Uh-oh! No plotly! We could install it via the usual means (e.g. `pip` or `conda` and build a `requirements.txt`). But let's install it via `poetry` instead! It's becoming a more popular way to [manage Python dependencies and packages](https://python-poetry.org/){target=\"_blank\"}; a good tool to learn. Plus, it's the default for our team.  \n",
    ":::\n"
   ]
  },
  {
   "cell_type": "markdown",
   "id": "a4744411-5a5c-44d9-ab25-a34e67a2f762",
   "metadata": {
    "editable": true,
    "jp-MarkdownHeadingCollapsed": true,
    "slideshow": {
     "slide_type": "slide"
    },
    "tags": []
   },
   "source": [
    "## How?\n",
    "\n",
    "### Dockerfile: Structure Cont'd\n",
    "\n",
    "::: {.incremental}    \n",
    "\n",
    "5. Bash into the running Jupyter container and `cd` into the `work` directory.\n",
    "6. Then:\n",
    "   ```bash\n",
    "   pip install poetry==1.8.2 \\\n",
    "       && poetry config virtualenvs.create false\n",
    "   ```\n",
    "7. Then initialize a `poetry` project in this directory with:\n",
    "   ```bash\n",
    "   poetry init\n",
    "   ```\n",
    "   Follow the prompts; accept all the defaults for now.\n",
    "\n",
    ":::  \n",
    "\n"
   ]
  },
  {
   "cell_type": "markdown",
   "id": "45c4bfdd-b8ff-4632-96f1-545c8c581907",
   "metadata": {
    "editable": true,
    "slideshow": {
     "slide_type": "slide"
    },
    "tags": []
   },
   "source": [
    "## How?\n",
    "\n",
    "### Dockerfile: Structure Cont'd\n",
    "\n",
    "::: {.incremental}    \n",
    "\n",
    "- `poetry` instantiates a `pyproject.toml`: keeps track of your python dependencies.\n",
    "- When we `add` dependencies, generates a `poetry.lock` file: pins our exact dependency versions\n",
    "- Great to manage dependencies robustly!\n",
    "- Plan: manage all our Python dependencies and persist them via these Poetry files; exploit volume-sharing with the host to persist.\n",
    "- Trick: commit Dockerfile + `poetry` files to version control => achieve full container replicability on our/others' machines!\n",
    "\n",
    ":::  \n",
    "\n"
   ]
  },
  {
   "cell_type": "markdown",
   "id": "c089d516-6f87-44e9-acfa-e59442eecfb3",
   "metadata": {
    "editable": true,
    "slideshow": {
     "slide_type": "slide"
    },
    "tags": []
   },
   "source": [
    "## How?\n",
    "\n",
    "### Dockerfile: Structure Cont'd\n",
    "\n",
    "::: {.incremental}    \n",
    "\n",
    "8. Finally, let's install/add `plotly` inside our container's `bash` session:\n",
    "   ```bash\n",
    "   poetry add plotly\n",
    "   ```\n",
    "   Note that now we have both `pyproject.toml` and `poetry.lock` on both the host and the container side!\n",
    "9. Now go back to your Jupyter Lab and check that `plotly` works in the cell where it didn't before! \n",
    ":::  \n",
    "\n"
   ]
  },
  {
   "cell_type": "markdown",
   "id": "0ba506d3-7c8a-4084-8910-85010b487c6c",
   "metadata": {
    "editable": true,
    "jp-MarkdownHeadingCollapsed": true,
    "slideshow": {
     "slide_type": "slide"
    },
    "tags": []
   },
   "source": [
    "## How?\n",
    "\n",
    "### Dockerfile: Structure Cont'd\n",
    "\n",
    "::: {.fragment}    \n",
    "\n",
    "Once the container is removed, the steps of us installing `poetry` and `plotly` are gone! Let's fix that! `docker stop` the Jupyter container. Then go back to the `Dockerfile` you created:\n",
    "\n",
    "10. First, let's add our starting point. Copy the name and the digest for the Jupyter image we've been using:\n",
    "    \n",
    "```dockerfile\n",
    "FROM quay.io/jupyter/scipy-notebook@sha256:3b8d0f5253e3acb5395bee6638bf51762b84e159f59b27c46d0b9cd27fac2306\n",
    "``` \n",
    ":::\n",
    "\n",
    "::: {.fragment}    \n",
    "\n",
    "11. Replicate what we just did inside the container. But now add these lines to the `Dockerfile`:\n",
    "    \n",
    "```dockerfile\n",
    "RUN pip install poetry==1.8.2 \\\n",
    "    && poetry config virtualenvs.create false\n",
    "```  \n",
    "\n",
    ":::  \n",
    "\n"
   ]
  },
  {
   "cell_type": "markdown",
   "id": "3e81c32c-9ba7-47b3-82d4-64b967ae66d4",
   "metadata": {
    "editable": true,
    "slideshow": {
     "slide_type": "slide"
    },
    "tags": []
   },
   "source": [
    "## How?\n",
    "\n",
    "### Dockerfile: Structure Cont'd\n",
    "\n",
    "::: {.incremental}    \n",
    "\n",
    "12. We also need to add these two commands to copy persisted Poetry files and use them to install dependencies (so far, only `plotly`):\n",
    "    \n",
    "    ```dockerfile\n",
    "    COPY poetry.lock pyproject.toml ./work/\n",
    "\n",
    "    RUN cd work \\\n",
    "        && poetry install --no-interaction \\\n",
    "        && rm poetry.lock pyproject.toml\n",
    "    ```  \n",
    "\n",
    ":::  \n",
    "\n"
   ]
  },
  {
   "cell_type": "markdown",
   "id": "8b39bb5f-3ca6-4656-b2dc-feb13fbd256a",
   "metadata": {
    "editable": true,
    "jp-MarkdownHeadingCollapsed": true,
    "slideshow": {
     "slide_type": "notes"
    },
    "tags": []
   },
   "source": [
    "Note that we're copying because volume mounting happens only at run time, not build time. So we need these files copied!"
   ]
  },
  {
   "cell_type": "markdown",
   "id": "45cf01d1-cc38-4c20-b2d0-307309b32d2f",
   "metadata": {
    "editable": true,
    "jp-MarkdownHeadingCollapsed": true,
    "slideshow": {
     "slide_type": "slide"
    },
    "tags": []
   },
   "source": [
    "## How?\n",
    "\n",
    "### Dockerfile: Structure Cont'd\n",
    "\n",
    "::: {.fragment}    \n",
    "\n",
    "So far, this is our `Dockerfile`:    \n",
    "\n",
    "```dockerfile\n",
    "FROM quay.io/jupyter/scipy-notebook@sha256:3b8d0f5253e3acb5395bee6638bf51762b84e159f59b27c46d0b9cd27fac2306\n",
    "\n",
    "RUN pip install poetry==1.8.2 \\\n",
    "    && poetry config virtualenvs.create false\n",
    "\n",
    "COPY poetry.lock pyproject.toml ./work/\n",
    "\n",
    "RUN cd work \\\n",
    "    && poetry install --no-interaction \\\n",
    "    && rm poetry.lock pyproject.toml\n",
    "```  \n",
    "\n",
    ":::  \n",
    "\n"
   ]
  },
  {
   "cell_type": "markdown",
   "id": "ec6f3df5-bc24-4005-98b6-18c10e6f7080",
   "metadata": {
    "editable": true,
    "jp-MarkdownHeadingCollapsed": true,
    "slideshow": {
     "slide_type": "slide"
    },
    "tags": []
   },
   "source": [
    "## How?\n",
    "\n",
    "### Dockerfile: Structure Cont'd\n",
    "\n",
    "::: {.incremental}    \n",
    "\n",
    "Caching strategy:  \n",
    "\n",
    "- Docker is smart. Using cache, from a `Dockerfile` it will only rebuild from *the last unchanged layer*.\n",
    "- Conclusion: the more often a layer changes, the lower it should be!\n",
    "- For debugging/rebuilding without cache: `--no-cache` flag with `docker build`\n",
    "\n",
    ":::  \n"
   ]
  },
  {
   "cell_type": "markdown",
   "id": "a615e677-9de9-4b62-9965-c75bf597e4d9",
   "metadata": {
    "editable": true,
    "slideshow": {
     "slide_type": "slide"
    },
    "tags": []
   },
   "source": [
    "## How?\n",
    "### Dockerfile: Build\n",
    "\n",
    "::: {.fragment}   \n",
    "Remember, to \"compile\" a `Dockerfile` into an image we use [the `build` command](https://docs.docker.com/reference/cli/docker/buildx/build/){target=\"_blank\"}. Syntax:\n",
    "\n",
    "```bash\n",
    "docker build [OPTIONS] PATH | URL | -\n",
    "```\n",
    "\n",
    ":::\n",
    "\n",
    "::: {.fragment}   \n",
    "About [build context](https://docs.docker.com/build/building/context/){target=\"_blank\"}:  \n",
    "\n",
    "- `PATH | URL | -` : context you pass. Docker will not recognize anything outside of that context\n",
    "- Can restrict files/directories in the context further via `.dockerignore`  \n",
    ":::   \n"
   ]
  },
  {
   "cell_type": "markdown",
   "id": "4ac9b056-bc35-4aec-9b64-53e68d8e233b",
   "metadata": {
    "editable": true,
    "slideshow": {
     "slide_type": "slide"
    },
    "tags": []
   },
   "source": [
    "## How?\n",
    "### Dockerfile: Build Cont'd\n",
    "\n",
    "::: {.fragment}   \n",
    "Let's \"compile\" our `Dockerfile` and name it `ds_dev_test`:\n",
    "```bash\n",
    "docker build -t ds_dev_test . \n",
    "```\n",
    ":::   \n",
    "\n"
   ]
  },
  {
   "cell_type": "markdown",
   "id": "f0427cb6-4858-4d5a-b682-9f33202296ff",
   "metadata": {
    "editable": true,
    "slideshow": {
     "slide_type": "slide"
    },
    "tags": []
   },
   "source": [
    "## How?\n",
    "### Dockerfile: Run\n",
    "\n",
    "::: {.fragment}   \n",
    "Finally, let's enjoy the fruits of our labour:  \n",
    "\n",
    "```{.bash}\n",
    "docker run -it --rm \\\n",
    "    --user \"$(id -u)\" --group-add users \\\n",
    "    -p 8888:8888 \\\n",
    "    -v \"${PWD}\"/:/home/jovyan/work \\\n",
    "    ds_dev_test \n",
    "```\n",
    "\n",
    ":::   \n",
    "\n"
   ]
  },
  {
   "cell_type": "markdown",
   "id": "355a6348-0863-4520-95ff-fccdb3e4735b",
   "metadata": {
    "editable": true,
    "jp-MarkdownHeadingCollapsed": true,
    "slideshow": {
     "slide_type": "slide"
    },
    "tags": []
   },
   "source": [
    "## [Best Practices](https://docs.docker.com/build/building/best-practices/){target=\"_blank\"} \n",
    "\n",
    "::: {.incremental}  \n",
    "\n",
    "- Dockerfile: \n",
    "    - Using the `sha256` hash is a good way to make the image reference more replicable\n",
    "    - Combine and minimize the number of layers\n",
    "    - Think of the layer order strategically  \n",
    "        - Rule of thumb: layers you expect to change more often should go towards the bottom of the `Dockerfile`\n",
    "    - Minimize the [build context](https://docs.docker.com/build/building/context/){target=\"_blank\"} by [using a `.dockerignore`](https://docs.docker.com/build/building/context/#dockerignore-files){target=\"_blank\"}.  \n",
    "    - For security, avoid using `root` user if you can\n",
    "\n",
    ":::  \n",
    "\n"
   ]
  },
  {
   "cell_type": "markdown",
   "id": "0bce5bae-fa60-48af-9fb1-b859ccb9daea",
   "metadata": {
    "editable": true,
    "jp-MarkdownHeadingCollapsed": true,
    "slideshow": {
     "slide_type": "slide"
    },
    "tags": []
   },
   "source": [
    "## [Best Practices](https://docs.docker.com/build/building/best-practices/){target=\"_blank\"} \n",
    "\n",
    "::: {.incremental}  \n",
    "\n",
    "- Images:\n",
    "    - Only pull and run images you trust\n",
    "- Containers:\n",
    "    - Remember: shared volumes are treated as own by a container\n",
    "\n",
    ":::  \n",
    "\n"
   ]
  },
  {
   "cell_type": "markdown",
   "id": "765ceae0-174a-4195-bb79-d62171d72a7e",
   "metadata": {
    "editable": true,
    "slideshow": {
     "slide_type": "slide"
    },
    "tags": []
   },
   "source": [
    "## Recap\n",
    "::: {.incremental}  \n",
    "- What containerization is\n",
    "    - Package your apps/models into a portable, reproducible, isolated environment\n",
    "- Why care\n",
    "    - Good for your resume\n",
    "    - Extends your core ML skills\n",
    "    - Practical\n",
    "- How to get started\n",
    "    - TLDR: registry/dockerfile -> image(s) -> container(s)  + read the [docs](https://docs.docker.com/reference/){target=\"_blank\"} and practice  \n",
    ":::  "
   ]
  },
  {
   "cell_type": "markdown",
   "id": "22b2392e-979c-4ab5-8a21-03e97ea30718",
   "metadata": {
    "editable": true,
    "slideshow": {
     "slide_type": "slide"
    },
    "tags": []
   },
   "source": [
    "## Further Learning \n",
    "\n",
    "::: {.fragment}  \n",
    "More Docker:  \n",
    "\n",
    "- Multistage builds  \n",
    "- Microservices\n",
    "\n",
    ":::  \n",
    "\n",
    "::: {.fragment}  \n",
    "[Docker](https://docs.docker.com/reference/){target=\"_blank\"} -> [Docker Compose](https://docs.docker.com/compose/){target=\"_blank\"} -> [Kubernetes](https://kubernetes.io/docs/tutorials/kubernetes-basics/){target=\"_blank\"}  \n",
    ":::  "
   ]
  },
  {
   "cell_type": "markdown",
   "id": "6f556637-dd76-417e-9c17-425807e7fc00",
   "metadata": {
    "editable": true,
    "slideshow": {
     "slide_type": "slide"
    },
    "tags": []
   },
   "source": [
    "## References/Resources\n",
    "<a name=\"cite_note-1\"></a>1. [^](#cite_ref-1) [What are Containers?](https://cloud.google.com/learn/what-are-containers){target=\"_blank\"}  \n",
    "<a name=\"cite_note-2\"></a>2. [^](#cite_ref-2) [Understanding containers\n",
    "](https://www.redhat.com/en/topics/containers){target=\"_blank\"}  \n",
    "<a name=\"cite_note-3\"></a>3. [^](#cite_ref-3) [Use containers to Build, Share and Run your applications](https://www.docker.com/resources/what-container/){target=\"_blank\"}  \n",
    "<a name=\"cite_note-4\"></a>4. [^](#cite_ref-4) [What is a registry?](https://docs.docker.com/guides/docker-concepts/the-basics/what-is-a-registry/){target=\"_blank\"}  \n",
    "<a name=\"cite_note-5\"></a>5. [^](#cite_ref-5) [Docker Primer (Crowe Internal)](https://gitlab.apollo.crowe.com/taskforces/people-onboarding/-/wikis/New-Hires/Learning/docker/docker-primer){target=\"_blank\"}  \n",
    "<a name=\"cite_note-6\"></a>6. [^](#cite_ref-6) [Docker Reference documentation](https://docs.docker.com/reference/){target=\"_blank\"}  \n",
    "<a name=\"cite_note-7\"></a>7. [^](#cite_ref-7) [Jupyter Stacks Docs: Troubleshooting Common Problems](https://jupyter-docker-stacks.readthedocs.io/en/latest/using/troubleshooting.html){target=\"_blank\"}  \n",
    "<a name=\"cite_note-8\"></a>8. [^](#cite_ref-8) [Docker Compose overview](https://docs.docker.com/compose/){target=\"_blank\"}  \n",
    "<a name=\"cite_note-9\"></a>9. [^](#cite_ref-9) [Learn Kubernetes Basics](https://kubernetes.io/docs/tutorials/kubernetes-basics/){target=\"_blank\"}  \n",
    "\n",
    "\n",
    "\n"
   ]
  }
 ],
 "metadata": {
  "kernelspec": {
   "display_name": "Python 3 (ipykernel)",
   "language": "python",
   "name": "python3"
  },
  "language_info": {
   "codemirror_mode": {
    "name": "ipython",
    "version": 3
   },
   "file_extension": ".py",
   "mimetype": "text/x-python",
   "name": "python",
   "nbconvert_exporter": "python",
   "pygments_lexer": "ipython3",
   "version": "3.11.6"
  }
 },
 "nbformat": 4,
 "nbformat_minor": 5
}
